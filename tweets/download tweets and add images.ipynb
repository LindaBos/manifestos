{
 "cells": [
  {
   "cell_type": "code",
   "execution_count": 2,
   "metadata": {
    "collapsed": false,
    "deletable": true,
    "editable": true
   },
   "outputs": [],
   "source": [
    "import tweepy\n",
    "import re\n",
    "import csv\n",
    "import glob\n",
    "from itertools import islice\n",
    "import os\n",
    "import os, sys\n",
    "import wget\n",
    "import pytesseract\n",
    "from PIL import Image, ImageEnhance, ImageFilter\n",
    "\n",
    "\n",
    "screen_names=[]\n",
    "parties=[]\n",
    "\n",
    "lidmaatschap = {}\n",
    "\n",
    "with open('/home/linda/manifestos/tweets/NL/NL_twitter_mp.csv', encoding='utf-8',mode='r',newline='') as twitterlist:\n",
    "    reader = csv.reader(twitterlist,delimiter=',')\n",
    "    for row in csv.reader(islice(twitterlist, None)):\n",
    "        screen_names.append(row[0])\n",
    "        parties.append(row[1])\n",
    "        lidmaatschap[row[0]] = row[1]"
   ]
  },
  {
   "cell_type": "code",
   "execution_count": 3,
   "metadata": {
    "collapsed": true,
    "deletable": true,
    "editable": true
   },
   "outputs": [],
   "source": [
    "auth = tweepy.OAuthHandler('RuYN0e3wWRrLpnvA8X2QFyLtH', 'qxs2ZdcPbnwB0kQlbgiygzF1LI3B3rcYA7pNaw1ApaMDj3xFDR',)\n",
    "auth.set_access_token('1398102110-z9BBCXR9QAeNdXjnPTnrUwKRodGx8OVJzGiCGGi', 'RMVd2CFC3O8NjTDbgG3FVdj9BTV5NqWSkFuLk1Kl9ymd2')\n",
    "api = tweepy.API(auth)"
   ]
  },
  {
   "cell_type": "code",
   "execution_count": null,
   "metadata": {
    "collapsed": true
   },
   "outputs": [],
   "source": [
    "# Note: script hieronder werkt bijna helemaal:\n",
    "# images worden gedownload, opgeslagen en geanalyseerd\n",
    "# text uit images wordt opgeslagen en gekoppeld aan tweet\n",
    "# krijg alleen nu niet voor elkaar om die text samen te voegen met de text van de tweet zelf\n",
    "# zou zijn omdat een van beide een list is, maar ik weet eigenlijk niet welke."
   ]
  },
  {
   "cell_type": "code",
   "execution_count": 6,
   "metadata": {
    "collapsed": false,
    "deletable": true,
    "editable": true
   },
   "outputs": [
    {
     "name": "stdout",
     "output_type": "stream",
     "text": [
      "Starting to get tweets from geertwilderspvv\n"
     ]
    },
    {
     "ename": "FileExistsError",
     "evalue": "[Errno 17] File exists: '/home/linda/manifestos/tweets/downloads/NL/Party leaders/test/images_geertwilderspvv_PVV'",
     "output_type": "error",
     "traceback": [
      "\u001b[0;31m---------------------------------------------------------------------------\u001b[0m",
      "\u001b[0;31mFileExistsError\u001b[0m                           Traceback (most recent call last)",
      "\u001b[0;32m<ipython-input-6-0ee3c247b529>\u001b[0m in \u001b[0;36m<module>\u001b[0;34m()\u001b[0m\n\u001b[1;32m      1\u001b[0m \u001b[0;32mfor\u001b[0m \u001b[0mscreen_name\u001b[0m \u001b[0;32min\u001b[0m \u001b[0mscreen_names\u001b[0m\u001b[0;34m[\u001b[0m\u001b[0;34m:\u001b[0m\u001b[0;36m1\u001b[0m\u001b[0;34m]\u001b[0m\u001b[0;34m:\u001b[0m\u001b[0;34m\u001b[0m\u001b[0m\n\u001b[1;32m      2\u001b[0m     \u001b[0mprint\u001b[0m\u001b[0;34m(\u001b[0m\u001b[0;34m\"Starting to get tweets from {}\"\u001b[0m\u001b[0;34m.\u001b[0m\u001b[0mformat\u001b[0m\u001b[0;34m(\u001b[0m\u001b[0mscreen_name\u001b[0m\u001b[0;34m)\u001b[0m\u001b[0;34m)\u001b[0m\u001b[0;34m\u001b[0m\u001b[0m\n\u001b[0;32m----> 3\u001b[0;31m     \u001b[0mos\u001b[0m\u001b[0;34m.\u001b[0m\u001b[0mmakedirs\u001b[0m\u001b[0;34m(\u001b[0m\u001b[0;34m\"/home/linda/manifestos/tweets/downloads/NL/Party leaders/test/images_{}_{}\"\u001b[0m\u001b[0;34m.\u001b[0m\u001b[0mformat\u001b[0m\u001b[0;34m(\u001b[0m\u001b[0mscreen_name\u001b[0m\u001b[0;34m,\u001b[0m\u001b[0mlidmaatschap\u001b[0m\u001b[0;34m[\u001b[0m\u001b[0mscreen_name\u001b[0m\u001b[0;34m]\u001b[0m\u001b[0;34m)\u001b[0m\u001b[0;34m)\u001b[0m\u001b[0;34m\u001b[0m\u001b[0m\n\u001b[0m\u001b[1;32m      4\u001b[0m     \u001b[0mos\u001b[0m\u001b[0;34m.\u001b[0m\u001b[0mchdir\u001b[0m\u001b[0;34m(\u001b[0m\u001b[0;34m\"/home/linda/manifestos/tweets/downloads/NL/Party leaders/test/images_{}_{}\"\u001b[0m\u001b[0;34m.\u001b[0m\u001b[0mformat\u001b[0m\u001b[0;34m(\u001b[0m\u001b[0mscreen_name\u001b[0m\u001b[0;34m,\u001b[0m\u001b[0mlidmaatschap\u001b[0m\u001b[0;34m[\u001b[0m\u001b[0mscreen_name\u001b[0m\u001b[0;34m]\u001b[0m\u001b[0;34m)\u001b[0m\u001b[0;34m)\u001b[0m\u001b[0;34m\u001b[0m\u001b[0m\n\u001b[1;32m      5\u001b[0m     \u001b[0malltweets\u001b[0m \u001b[0;34m=\u001b[0m \u001b[0;34m[\u001b[0m\u001b[0;34m]\u001b[0m\u001b[0;34m\u001b[0m\u001b[0m\n",
      "\u001b[0;32m/usr/lib/python3.5/os.py\u001b[0m in \u001b[0;36mmakedirs\u001b[0;34m(name, mode, exist_ok)\u001b[0m\n\u001b[1;32m    239\u001b[0m             \u001b[0;32mreturn\u001b[0m\u001b[0;34m\u001b[0m\u001b[0m\n\u001b[1;32m    240\u001b[0m     \u001b[0;32mtry\u001b[0m\u001b[0;34m:\u001b[0m\u001b[0;34m\u001b[0m\u001b[0m\n\u001b[0;32m--> 241\u001b[0;31m         \u001b[0mmkdir\u001b[0m\u001b[0;34m(\u001b[0m\u001b[0mname\u001b[0m\u001b[0;34m,\u001b[0m \u001b[0mmode\u001b[0m\u001b[0;34m)\u001b[0m\u001b[0;34m\u001b[0m\u001b[0m\n\u001b[0m\u001b[1;32m    242\u001b[0m     \u001b[0;32mexcept\u001b[0m \u001b[0mOSError\u001b[0m\u001b[0;34m:\u001b[0m\u001b[0;34m\u001b[0m\u001b[0m\n\u001b[1;32m    243\u001b[0m         \u001b[0;31m# Cannot rely on checking for EEXIST, since the operating system\u001b[0m\u001b[0;34m\u001b[0m\u001b[0;34m\u001b[0m\u001b[0m\n",
      "\u001b[0;31mFileExistsError\u001b[0m: [Errno 17] File exists: '/home/linda/manifestos/tweets/downloads/NL/Party leaders/test/images_geertwilderspvv_PVV'"
     ]
    }
   ],
   "source": [
    "for screen_name in screen_names[:1]:\n",
    "    print(\"Starting to get tweets from {}\".format(screen_name))\n",
    "    os.makedirs(\"/home/linda/manifestos/tweets/downloads/NL/Party leaders/test/images_{}_{}\".format(screen_name,lidmaatschap[screen_name]))    \n",
    "    os.chdir(\"/home/linda/manifestos/tweets/downloads/NL/Party leaders/test/images_{}_{}\".format(screen_name,lidmaatschap[screen_name]))    \n",
    "    alltweets = []\t\n",
    "    new_tweets = api.user_timeline(screen_name = screen_name,count=200)\n",
    "    alltweets.extend(new_tweets)\n",
    "    oldest = alltweets[-1].id - 1\n",
    "    while len(new_tweets) > 0:\n",
    "        print (\"getting tweets before %s\" % (oldest))\n",
    "        new_tweets = api.user_timeline(screen_name = screen_name,count=200,max_id=oldest)\n",
    "        alltweets.extend(new_tweets)\t\n",
    "        oldest = alltweets[-1].id - 1\n",
    "        print (\"...%s tweets downloaded so far\" % (len(alltweets)))\n",
    "    cleaned_text = [re.sub(r'http[s]?:\\/\\/.*[\\W]*', '', i.text, flags=re.MULTILINE) for i in alltweets] # remove urls\n",
    "    cleaned_text = [re.sub(r'@[\\w]*', '', i, flags=re.MULTILINE) for i in cleaned_text] # remove the @twitter mentions \n",
    "    cleaned_text = [re.sub(r'RT.*','', i, flags=re.MULTILINE) for i in cleaned_text] # delete the retweets\n",
    "    picturetext=[]\n",
    "    totaltext = []\n",
    "    pictures=[]\n",
    "    for tweet in alltweets:\n",
    "        if 'media' in tweet.entities:\n",
    "            for image in  tweet.entities['media']:\n",
    "                picture = image['media_url']\n",
    "                wget.download(picture)\n",
    "                pic = picture.split(\"/\")[-1] \n",
    "                im = Image.open(pic)\n",
    "                im = im.filter(ImageFilter.MedianFilter())\n",
    "                enhancer = ImageEnhance.Contrast(im)\n",
    "                im = enhancer.enhance(2)\n",
    "                im = im.convert('1')\n",
    "                im.save('temp.jpg')\n",
    "                text_from_picture = pytesseract.image_to_string(Image.open('temp.jpg'))\n",
    "                os.remove('temp.jpg')\n",
    "        elif 'media' not in tweet.entities:\n",
    "            picture = 'no picture'\n",
    "            text_from_picture = ''\n",
    "        picturetext.append(text_from_picture)\n",
    "        for i in cleaned_text:\n",
    "            ttext = text_from_picture + i\n",
    "        totaltext.append(ttext)\n",
    "        pictures.append(picture)\n",
    "    outtweets = [[tweet.id_str, tweet.favorite_count, tweet.retweet_count, tweet.created_at, pictures[idx], picturetext[idx],totaltext[idx],cleaned_text[idx]] for idx,tweet in enumerate(alltweets)]\n",
    "    outputfile = '/home/linda/manifestos/tweets/downloads/NL/Party leaders/test/{}_{}_tweets_images.csv'.format(screen_name,lidmaatschap[screen_name])\n",
    "    print(\"Writing stuff to {}\".format(outputfile))\n",
    "    with open(outputfile, 'w') as f:\n",
    "        writer = csv.writer(f)\n",
    "        writer.writerow([\"id\",\"favourite_count\",\"retweet_count\", \"created_at\", \"image\", \"imagetext\", \"totaltext\", \"cleaned_text\"])\n",
    "        writer.writerows(outtweets)\n",
    "\n",
    "pass\n",
    "\n"
   ]
  },
  {
   "cell_type": "code",
   "execution_count": null,
   "metadata": {
    "collapsed": true
   },
   "outputs": [],
   "source": []
  }
 ],
 "metadata": {
  "kernelspec": {
   "display_name": "Python 3",
   "language": "python",
   "name": "python3"
  },
  "language_info": {
   "codemirror_mode": {
    "name": "ipython",
    "version": 3
   },
   "file_extension": ".py",
   "mimetype": "text/x-python",
   "name": "python",
   "nbconvert_exporter": "python",
   "pygments_lexer": "ipython3",
   "version": "3.5.2+"
  }
 },
 "nbformat": 4,
 "nbformat_minor": 2
}
