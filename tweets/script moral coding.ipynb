{
 "cells": [
  {
   "cell_type": "code",
   "execution_count": 69,
   "metadata": {
    "collapsed": false
   },
   "outputs": [
    {
     "name": "stdout",
     "output_type": "stream",
     "text": [
      "showing info https://raw.githubusercontent.com/nltk/nltk_data/gh-pages/index.xml\n"
     ]
    }
   ],
   "source": [
    "from itertools import islice\n",
    "\n",
    "import nltk\n",
    "nltk.download()\n",
    "\n",
    "from nltk.corpus import stopwords\n",
    "stopwords = stopwords.words('english')\n",
    "\n",
    "import string"
   ]
  },
  {
   "cell_type": "code",
   "execution_count": 122,
   "metadata": {
    "collapsed": true
   },
   "outputs": [],
   "source": [
    "import csv\n",
    "text=[]\n",
    "cmp_code=[]\n",
    "with open('/home/linda/manifestos/UKIP_2015.csv', encoding='utf-8',mode='r',newline='') as ukip_2015:\n",
    "    reader = csv.reader(ukip_2015,delimiter=',')\n",
    "    for row in csv.reader(islice(ukip_2015, 8, None)):\n",
    "        text.append(row[0])\n",
    "        cmp_code.append(row[1])\n",
    "\n",
    "partyname = \"ukip\"\n",
    "yr = 2015\n",
    "ctr = \"UK\""
   ]
  },
  {
   "cell_type": "code",
   "execution_count": 126,
   "metadata": {
    "collapsed": false
   },
   "outputs": [],
   "source": [
    "import re\n",
    "\n",
    "moraldic = open(\"/home/linda/manifestos/mf/moral foundations dictionary.dic\").read().replace(\"\\t\", \"\").replace(\"\\s\", \"\")\n",
    "\n",
    "\n",
    "harmvirtue = re.findall('([a-z]+\\*?).*[0][1]', moraldic)\n",
    "harmvice = re.findall('([a-z]+\\*?).*[0][2]', moraldic)\n",
    "fairnessvirtue = re.findall('([a-z]+\\*?).*[0][3]', moraldic)\n",
    "fairnessvice = re.findall('([a-z]+\\*?).*[0][4]', moraldic)\n",
    "ingroupvirtue = re.findall('([a-z]+\\*?).*[0][5]', moraldic)\n",
    "ingroupvice = re.findall('([a-z]+\\*?).*[0][6]', moraldic)\n",
    "authorityvirtue = re.findall('([a-z]+\\*?).*[0][7]', moraldic)\n",
    "authorityvice = re.findall('([a-z]+\\*?).*[0][8]', moraldic)\n",
    "purityvirtue = re.findall('([a-z]+\\*?).*[0][9]', moraldic)\n",
    "purityvice = re.findall('([a-z]+\\*?).*[1][0]', moraldic)\n",
    "moralitygeneral = re.findall('([a-z]+\\*?).*[1][1]', moraldic)\n",
    "\n",
    "\n",
    "moralityall = re.findall('([a-z]+\\*?).*[01-11]', moraldic) \n",
    "\n",
    "\n",
    "\n",
    "#lege zinnen weglaten\n",
    "#stopwoorden en leestekens verwijderen\n",
    "\n",
    "\n",
    "text = [r.strip() for r in text if r.strip()!=\"\"]\n",
    "text = [' '.join(w for w in text.split() if w.lower() not in stopwords) for text in text]\n",
    "translate_table = dict((ord(char), None) for char in string.punctuation)   \n",
    "text = [t.translate(translate_table) for t in text]\n",
    "\n",
    "\n",
    "#morele woorden tellen en opslaan als csv\n",
    "\n",
    "morallist=[]\n",
    "harmvirtuelist = []\n",
    "harmvicelist = []\n",
    "fairnessvirtuelist = []\n",
    "fairnessvicelist = []\n",
    "ingroupvirtuelist = []\n",
    "ingroupvicelist = []\n",
    "authorityvirtuelist = []\n",
    "authorityvicelist = []\n",
    "purityvirtuelist = []\n",
    "purityvicelist = []\n",
    "harmlist = []\n",
    "fairnesslist = []\n",
    "ingrouplist = []\n",
    "authoritylist = []\n",
    "puritylist = []\n",
    "harmratio = []\n",
    "fairnessratio = []\n",
    "ingroupratio = []\n",
    "authorityratio = []\n",
    "purityratio = []\n",
    "moralratio=[]\n",
    "length=[]\n",
    "party = []\n",
    "year= []\n",
    "country = []\n",
    "for line in text:\n",
    "    moralcount=0\n",
    "    harmvirtuecount=0\n",
    "    harmvicecount=0\n",
    "    fairnessvirtuecount=0\n",
    "    fairnessvicecount=0\n",
    "    ingroupvirtuecount=0\n",
    "    ingroupvicecount=0\n",
    "    authorityvirtuecount=0\n",
    "    authorityvicecount=0\n",
    "    purityvirtuecount=0\n",
    "    purityvicecount=0\n",
    "    pn=partyname\n",
    "    y=yr\n",
    "    c=ctr\n",
    "    for pattern in moralityall:\n",
    "        for word in line.split():\n",
    "            if pattern[-1] == '*' and word.startswith(pattern[:-1]) or word == pattern:\n",
    "                moralcount+=1\n",
    "    for pattern in harmvirtue:\n",
    "        for word in line.split():\n",
    "            if pattern[-1] == '*' and word.startswith(pattern[:-1]) or word == pattern:\n",
    "                harmvirtuecount+=1\n",
    "    for pattern in harmvice:\n",
    "        for word in line.split():\n",
    "            if pattern[-1] == '*' and word.startswith(pattern[:-1]) or word == pattern:\n",
    "                harmvicecount+=1\n",
    "    for pattern in fairnessvirtue:\n",
    "        for word in line.split():\n",
    "            if pattern[-1] == '*' and word.startswith(pattern[:-1]) or word == pattern:\n",
    "                fairnessvirtuecount+=1\n",
    "    for pattern in fairnessvice:\n",
    "        for word in line.split():\n",
    "            if pattern[-1] == '*' and word.startswith(pattern[:-1]) or word == pattern:\n",
    "                fairnessvicecount+=1\n",
    "    for pattern in ingroupvirtue:\n",
    "        for word in line.split():\n",
    "            if pattern[-1] == '*' and word.startswith(pattern[:-1]) or word == pattern:\n",
    "                ingroupvirtuecount+=1\n",
    "    for pattern in ingroupvice:\n",
    "        for word in line.split():\n",
    "            if pattern[-1] == '*' and word.startswith(pattern[:-1]) or word == pattern:\n",
    "                ingroupvicecount+=1\n",
    "    for pattern in authorityvirtue:\n",
    "        for word in line.split():\n",
    "            if pattern[-1] == '*' and word.startswith(pattern[:-1]) or word == pattern:\n",
    "                authorityvirtuecount+=1\n",
    "    for pattern in authorityvice:\n",
    "        for word in line.split():\n",
    "            if pattern[-1] == '*' and word.startswith(pattern[:-1]) or word == pattern:\n",
    "                authorityvicecount+=1\n",
    "    for pattern in purityvirtue:\n",
    "        for word in line.split():\n",
    "            if pattern[-1] == '*' and word.startswith(pattern[:-1]) or word == pattern:\n",
    "                purityvirtuecount+=1\n",
    "    for pattern in purityvice:\n",
    "        for word in line.split():\n",
    "            if pattern[-1] == '*' and word.startswith(pattern[:-1]) or word == pattern:\n",
    "                purityvicecount+=1\n",
    "    morallist.append(moralcount)\n",
    "    harmvirtuelist.append(harmvirtuecount)\n",
    "    harmvicelist.append(harmvicecount)\n",
    "    harmlist.append(harmvicecount+harmvirtuecount)\n",
    "    harmratio.append((harmvicecount+harmvirtuecount)/len(line))\n",
    "    fairnessvirtuelist.append(fairnessvirtuecount)\n",
    "    fairnessvicelist.append(fairnessvicecount)\n",
    "    fairnesslist.append(fairnessvicecount+fairnessvirtuecount)\n",
    "    fairnessratio.append((fairnessvicecount+fairnessvirtuecount)/len(line))   \n",
    "    ingroupvirtuelist.append(ingroupvirtuecount)\n",
    "    ingroupvicelist.append(ingroupvicecount)\n",
    "    ingrouplist.append(ingroupvirtuecount + ingroupvicecount)\n",
    "    ingroupratio.append((ingroupvirtuecount + ingroupvicecount)/len(line))\n",
    "    authorityvirtuelist.append(authorityvirtuecount)\n",
    "    authorityvicelist.append(authorityvicecount)\n",
    "    authoritylist.append(authorityvicecount + authorityvirtuecount)\n",
    "    authorityratio.append((authorityvicecount + authorityvirtuecount)/len(line))\n",
    "    purityvirtuelist.append(purityvirtuecount)\n",
    "    purityvicelist.append(purityvicecount)\n",
    "    puritylist.append(purityvicecount + purityvirtuecount)\n",
    "    purityratio.append((purityvicecount + purityvirtuecount)/len(line))\n",
    "    moralratio.append((moralcount)/len(line))\n",
    "    party.append(pn)\n",
    "    year.append(y)\n",
    "    country.append(c)\n",
    "    length.append(len(line))\n",
    "    \n",
    "\n",
    "\n",
    "   \n"
   ]
  },
  {
   "cell_type": "code",
   "execution_count": 125,
   "metadata": {
    "collapsed": false
   },
   "outputs": [],
   "source": [
    "output = zip(text,cmp_code,morallist, moralratio, harmvirtuelist, harmvicelist, harmlist, harmratio, fairnessvirtuelist, fairnessvicelist, fairnesslist, fairnessratio, ingroupvirtuelist, ingroupvicelist, ingrouplist, ingroupratio, purityvirtuelist, purityvicelist, puritylist, purityratio, authorityvirtuelist, authorityvicelist, authoritylist, authorityratio, length, party, year, country)\n",
    "with open(\"/home/linda/manifestos/data/UK/moralukip15.csv\", mode= \"w\", encoding = \"utf-8\") as fo:\n",
    "    writer=csv.writer(fo)\n",
    "    writer.writerows(output)\n"
   ]
  },
  {
   "cell_type": "code",
   "execution_count": 112,
   "metadata": {
    "collapsed": false
   },
   "outputs": [
    {
     "name": "stdout",
     "output_type": "stream",
     "text": [
      "0\n"
     ]
    }
   ],
   "source": [
    "t= [\"immigration\", \"safe\", \"nation\"] \n",
    "moralhoppa = [\"immig*\", \"safe*\", \"nation*\" ]\n",
    "\n",
    "for line in t:\n",
    "    moralcount=0\n",
    "    for i in moralhoppa:\n",
    "        if i in line:        \n",
    "            moralcount+=1\n",
    "\n",
    "print(moralcount)\n",
    "        "
   ]
  },
  {
   "cell_type": "code",
   "execution_count": 98,
   "metadata": {
    "collapsed": false
   },
   "outputs": [
    {
     "data": {
      "text/plain": [
       "['care']"
      ]
     },
     "execution_count": 98,
     "metadata": {},
     "output_type": "execute_result"
    }
   ],
   "source": [
    "#for line in text:\n",
    " #   moralcount=0\n",
    "  #  for word in line.split():\n",
    "   #     if \n",
    "\n",
    "import re\n",
    "def match(input_string, moralityall):\n",
    "    words = re.findall(r'\\w+', input_string)\n",
    "    return [word for word in words if word in moralityall]\n",
    "\n",
    "match(\"immigration is not safe in authority nation unfair care\", moralityall)\n",
    "\n",
    "## dit werkt dus deels, maar niet op de manier waarnaar ik op zoek was, want woorden met een asterisk worden nog steeds niet gematcht"
   ]
  },
  {
   "cell_type": "code",
   "execution_count": 119,
   "metadata": {
    "collapsed": false
   },
   "outputs": [],
   "source": [
    "import fnmatch\n",
    "\n",
    "t= [\"immigration\", \"safe\", \"nation\"] \n",
    "moralhoppa = [\"immig*\", \"safe*\", \"nation*\" ]\n",
    "\n",
    "for line in t:\n",
    "    moralcount=0\n",
    "    for pattern in moralhoppa:\n",
    "        l = fnmatch.filter(line, pattern)\n",
    "        if l:\n",
    "            print(pattern, \"match\", l)"
   ]
  },
  {
   "cell_type": "code",
   "execution_count": 121,
   "metadata": {
    "collapsed": false
   },
   "outputs": [
    {
     "name": "stdout",
     "output_type": "stream",
     "text": [
      "immigration matches immig*\n",
      "safe matches safe*\n",
      "nation matches nation*\n",
      "immigration matches immig*\n",
      "safe matches safe*\n",
      "nation matches nation*\n",
      "immigration matches immig*\n",
      "safe matches safe*\n",
      "nation matches nation*\n"
     ]
    }
   ],
   "source": [
    "\n",
    "for line in t:\n",
    "    moralcount=0\n",
    "    for pat in moralhoppa:\n",
    "        for line in t:\n",
    "            if pat[-1] == '*' and line.startswith(pat[:-1]) or line == pat:\n",
    "                print(line, \"matches\", pat)\n",
    "            "
   ]
  },
  {
   "cell_type": "code",
   "execution_count": 118,
   "metadata": {
    "collapsed": false
   },
   "outputs": [
    {
     "ename": "TypeError",
     "evalue": "findall() missing 1 required positional argument: 'string'",
     "output_type": "error",
     "traceback": [
      "\u001b[0;31m---------------------------------------------------------------------------\u001b[0m",
      "\u001b[0;31mTypeError\u001b[0m                                 Traceback (most recent call last)",
      "\u001b[0;32m<ipython-input-118-ee243dbc6a5c>\u001b[0m in \u001b[0;36m<module>\u001b[0;34m()\u001b[0m\n\u001b[1;32m      1\u001b[0m \u001b[0mx\u001b[0m \u001b[0;34m=\u001b[0m \u001b[0;34m\"immigration is not safe in authority nation unfair\"\u001b[0m\u001b[0;34m\u001b[0m\u001b[0m\n\u001b[1;32m      2\u001b[0m \u001b[0;34m\u001b[0m\u001b[0m\n\u001b[0;32m----> 3\u001b[0;31m \u001b[0mhola\u001b[0m \u001b[0;34m=\u001b[0m \u001b[0;34m(\u001b[0m\u001b[0mre\u001b[0m\u001b[0;34m.\u001b[0m\u001b[0mfindall\u001b[0m\u001b[0;34m(\u001b[0m\u001b[0;34mr\"(?=(\"\u001b[0m\u001b[0;34m+\u001b[0m\u001b[0;34m'|'\u001b[0m\u001b[0;34m.\u001b[0m\u001b[0mjoin\u001b[0m\u001b[0;34m(\u001b[0m\u001b[0mmoralityall\u001b[0m\u001b[0;34m)\u001b[0m\u001b[0;34m)\u001b[0m\u001b[0;34m+\u001b[0m\u001b[0;34mr\"))\"\u001b[0m\u001b[0;34m,\u001b[0m\u001b[0mx\u001b[0m\u001b[0;34m)\u001b[0m\u001b[0;34m\u001b[0m\u001b[0m\n\u001b[0m\u001b[1;32m      4\u001b[0m \u001b[0;34m\u001b[0m\u001b[0m\n\u001b[1;32m      5\u001b[0m \u001b[0mprint\u001b[0m\u001b[0;34m(\u001b[0m\u001b[0mhola\u001b[0m\u001b[0;34m)\u001b[0m\u001b[0;34m\u001b[0m\u001b[0m\n",
      "\u001b[0;31mTypeError\u001b[0m: findall() missing 1 required positional argument: 'string'"
     ]
    }
   ],
   "source": [
    "x = \"immigration is not safe in authority nation unfair\"\n",
    "\n",
    "hola = (re.findall(r\"(?=(\"+'|'.join(moralityall))+r\"))\",x)\n",
    "\n",
    "print(hola)\n",
    "\n",
    "## werkt uberhaupt niet"
   ]
  },
  {
   "cell_type": "code",
   "execution_count": 105,
   "metadata": {
    "collapsed": false
   },
   "outputs": [
    {
     "ename": "TypeError",
     "evalue": "normcase() argument must be str or bytes, not 'list'",
     "output_type": "error",
     "traceback": [
      "\u001b[0;31m---------------------------------------------------------------------------\u001b[0m",
      "\u001b[0;31mTypeError\u001b[0m                                 Traceback (most recent call last)",
      "\u001b[0;32m<ipython-input-105-d68bd9449943>\u001b[0m in \u001b[0;36m<module>\u001b[0;34m()\u001b[0m\n\u001b[1;32m      1\u001b[0m \u001b[0;32mimport\u001b[0m \u001b[0mfnmatch\u001b[0m\u001b[0;34m\u001b[0m\u001b[0m\n\u001b[1;32m      2\u001b[0m \u001b[0mlst\u001b[0m \u001b[0;34m=\u001b[0m \u001b[0mmoralityall\u001b[0m\u001b[0;34m\u001b[0m\u001b[0m\n\u001b[0;32m----> 3\u001b[0;31m \u001b[0mfiltered\u001b[0m \u001b[0;34m=\u001b[0m \u001b[0mfnmatch\u001b[0m\u001b[0;34m.\u001b[0m\u001b[0mfnmatch\u001b[0m\u001b[0;34m(\u001b[0m\u001b[0;34m'immigration'\u001b[0m\u001b[0;34m,\u001b[0m \u001b[0mlst\u001b[0m\u001b[0;34m)\u001b[0m\u001b[0;34m\u001b[0m\u001b[0m\n\u001b[0m\u001b[1;32m      4\u001b[0m \u001b[0;34m\u001b[0m\u001b[0m\n\u001b[1;32m      5\u001b[0m \u001b[0mprint\u001b[0m\u001b[0;34m(\u001b[0m\u001b[0mfiltered\u001b[0m\u001b[0;34m)\u001b[0m\u001b[0;34m\u001b[0m\u001b[0m\n",
      "\u001b[0;32m/usr/lib/python3.5/fnmatch.py\u001b[0m in \u001b[0;36mfnmatch\u001b[0;34m(name, pat)\u001b[0m\n\u001b[1;32m     33\u001b[0m     \"\"\"\n\u001b[1;32m     34\u001b[0m     \u001b[0mname\u001b[0m \u001b[0;34m=\u001b[0m \u001b[0mos\u001b[0m\u001b[0;34m.\u001b[0m\u001b[0mpath\u001b[0m\u001b[0;34m.\u001b[0m\u001b[0mnormcase\u001b[0m\u001b[0;34m(\u001b[0m\u001b[0mname\u001b[0m\u001b[0;34m)\u001b[0m\u001b[0;34m\u001b[0m\u001b[0m\n\u001b[0;32m---> 35\u001b[0;31m     \u001b[0mpat\u001b[0m \u001b[0;34m=\u001b[0m \u001b[0mos\u001b[0m\u001b[0;34m.\u001b[0m\u001b[0mpath\u001b[0m\u001b[0;34m.\u001b[0m\u001b[0mnormcase\u001b[0m\u001b[0;34m(\u001b[0m\u001b[0mpat\u001b[0m\u001b[0;34m)\u001b[0m\u001b[0;34m\u001b[0m\u001b[0m\n\u001b[0m\u001b[1;32m     36\u001b[0m     \u001b[0;32mreturn\u001b[0m \u001b[0mfnmatchcase\u001b[0m\u001b[0;34m(\u001b[0m\u001b[0mname\u001b[0m\u001b[0;34m,\u001b[0m \u001b[0mpat\u001b[0m\u001b[0;34m)\u001b[0m\u001b[0;34m\u001b[0m\u001b[0m\n\u001b[1;32m     37\u001b[0m \u001b[0;34m\u001b[0m\u001b[0m\n",
      "\u001b[0;32m/usr/lib/python3.5/posixpath.py\u001b[0m in \u001b[0;36mnormcase\u001b[0;34m(s)\u001b[0m\n\u001b[1;32m     52\u001b[0m     \u001b[0;32mif\u001b[0m \u001b[0;32mnot\u001b[0m \u001b[0misinstance\u001b[0m\u001b[0;34m(\u001b[0m\u001b[0ms\u001b[0m\u001b[0;34m,\u001b[0m \u001b[0;34m(\u001b[0m\u001b[0mbytes\u001b[0m\u001b[0;34m,\u001b[0m \u001b[0mstr\u001b[0m\u001b[0;34m)\u001b[0m\u001b[0;34m)\u001b[0m\u001b[0;34m:\u001b[0m\u001b[0;34m\u001b[0m\u001b[0m\n\u001b[1;32m     53\u001b[0m         raise TypeError(\"normcase() argument must be str or bytes, \"\n\u001b[0;32m---> 54\u001b[0;31m                         \"not '{}'\".format(s.__class__.__name__))\n\u001b[0m\u001b[1;32m     55\u001b[0m     \u001b[0;32mreturn\u001b[0m \u001b[0ms\u001b[0m\u001b[0;34m\u001b[0m\u001b[0m\n\u001b[1;32m     56\u001b[0m \u001b[0;34m\u001b[0m\u001b[0m\n",
      "\u001b[0;31mTypeError\u001b[0m: normcase() argument must be str or bytes, not 'list'"
     ]
    }
   ],
   "source": [
    "import fnmatch\n",
    "lst = moralityall\n",
    "filtered = fnmatch.fnmatch('immigration', lst)\n",
    "\n",
    "print(filtered)"
   ]
  },
  {
   "cell_type": "code",
   "execution_count": null,
   "metadata": {
    "collapsed": true
   },
   "outputs": [],
   "source": [
    "\n"
   ]
  }
 ],
 "metadata": {
  "kernelspec": {
   "display_name": "Python 3",
   "language": "python",
   "name": "python3"
  },
  "language_info": {
   "codemirror_mode": {
    "name": "ipython",
    "version": 3
   },
   "file_extension": ".py",
   "mimetype": "text/x-python",
   "name": "python",
   "nbconvert_exporter": "python",
   "pygments_lexer": "ipython3",
   "version": "3.5.2+"
  }
 },
 "nbformat": 4,
 "nbformat_minor": 2
}
