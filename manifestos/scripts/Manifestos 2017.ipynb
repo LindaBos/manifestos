{
 "cells": [
  {
   "cell_type": "code",
   "execution_count": 9,
   "metadata": {
    "collapsed": false,
    "deletable": true,
    "editable": true
   },
   "outputs": [
    {
     "name": "stdout",
     "output_type": "stream",
     "text": [
      "showing info https://raw.githubusercontent.com/nltk/nltk_data/gh-pages/index.xml\n"
     ]
    }
   ],
   "source": [
    "from itertools import islice\n",
    "\n",
    "import nltk\n",
    "nltk.download()\n",
    "\n",
    "from nltk.stem.snowball import SnowballStemmer\n",
    "stemmer=SnowballStemmer(\"dutch\")\n",
    "\n",
    "from nltk.corpus import stopwords\n",
    "stopwords = stopwords.words('dutch')\n",
    "\n"
   ]
  },
  {
   "cell_type": "code",
   "execution_count": 16,
   "metadata": {
    "collapsed": false,
    "deletable": true,
    "editable": true
   },
   "outputs": [],
   "source": [
    "import csv\n",
    "text=[]\n",
    "cmp_code=[]\n",
    "with open('/home/linda/manifestos/manifestos/Manifesto downloads/NL/gl_2017.csv', encoding='utf-8',mode='r',newline='') as gl_2017:\n",
    "    reader = csv.reader(gl_2017,delimiter=',')\n",
    "    for row in csv.reader(islice(gl_2017, 8, None)):\n",
    "        text.append(row[0])\n",
    "        cmp_code.append(row[1])\n",
    "\n",
    "partyname = \"gl\"\n",
    "yr = 2017\n",
    "ctr = \"NL\"\n",
    "\n",
    "\n",
    "exec(open(\"/home/linda/manifestos/manifestos/scripts/script manifestos NL ext.py\").read(), globals())\n",
    "\n",
    "output = zip(text,cmp_code,morallist, harmvirtuelist, harmvicelist, harmlist, fairnessvirtuelist, fairnessvicelist, fairnesslist, ingroupvirtuelist, ingroupvicelist, ingrouplist, purityvirtuelist, purityvicelist, puritylist, authorityvirtuelist, authorityvicelist, authoritylist, libertyvirtuelist, libertyvicelist, libertylist, moralgenlist, length, party, year, country)\n",
    "with open(\"/home/linda/manifestos/manifestos/data/NL/2017/moralgl17.csv\", mode= \"w\", encoding = \"utf-8\") as fo:\n",
    "    writer=csv.writer(fo)\n",
    "    writer.writerows(output)"
   ]
  },
  {
   "cell_type": "code",
   "execution_count": 18,
   "metadata": {
    "collapsed": false,
    "deletable": true,
    "editable": true
   },
   "outputs": [],
   "source": [
    "import csv\n",
    "text=[]\n",
    "cmp_code=[]\n",
    "with open('/home/linda/manifestos/manifestos/Manifesto downloads/NL/vvd_2017.csv', encoding='utf-8',mode='r',newline='') as vvd_2017:\n",
    "    reader = csv.reader(vvd_2017,delimiter=',')\n",
    "    for row in csv.reader(islice(vvd_2017, 8, None)):\n",
    "        text.append(row[0])\n",
    "        cmp_code.append(row[1])\n",
    "\n",
    "partyname = \"vvd\"\n",
    "yr = 2017\n",
    "ctr = \"NL\"\n",
    "\n",
    "\n",
    "exec(open(\"/home/linda/manifestos/manifestos/scripts/script manifestos NL ext.py\").read(), globals())\n",
    "\n",
    "output = zip(text,cmp_code,morallist, harmvirtuelist, harmvicelist, harmlist, fairnessvirtuelist, fairnessvicelist, fairnesslist, ingroupvirtuelist, ingroupvicelist, ingrouplist, purityvirtuelist, purityvicelist, puritylist, authorityvirtuelist, authorityvicelist, authoritylist, libertyvirtuelist, libertyvicelist, libertylist, moralgenlist, length, party, year, country)\n",
    "with open(\"/home/linda/manifestos/manifestos/data/NL/2017/moralvvd17.csv\", mode= \"w\", encoding = \"utf-8\") as fo:\n",
    "    writer=csv.writer(fo)\n",
    "    writer.writerows(output)"
   ]
  },
  {
   "cell_type": "code",
   "execution_count": 19,
   "metadata": {
    "collapsed": true,
    "deletable": true,
    "editable": true
   },
   "outputs": [],
   "source": [
    "import csv\n",
    "text=[]\n",
    "cmp_code=[]\n",
    "with open('/home/linda/manifestos/manifestos/Manifesto downloads/NL/sp_2017.csv', encoding='utf-8',mode='r',newline='') as sp_2017:\n",
    "    reader = csv.reader(sp_2017,delimiter=',')\n",
    "    for row in csv.reader(islice(sp_2017, 8, None)):\n",
    "        text.append(row[0])\n",
    "        cmp_code.append(row[1])\n",
    "\n",
    "partyname = \"sp\"\n",
    "yr = 2017\n",
    "ctr = \"NL\"\n",
    "\n",
    "\n",
    "exec(open(\"/home/linda/manifestos/manifestos/scripts/script manifestos NL ext.py\").read(), globals())\n",
    "\n",
    "output = zip(text,cmp_code,morallist, harmvirtuelist, harmvicelist, harmlist, fairnessvirtuelist, fairnessvicelist, fairnesslist, ingroupvirtuelist, ingroupvicelist, ingrouplist, purityvirtuelist, purityvicelist, puritylist, authorityvirtuelist, authorityvicelist, authoritylist, libertyvirtuelist, libertyvicelist, libertylist, moralgenlist, length, party, year, country)\n",
    "with open(\"/home/linda/manifestos/manifestos/data/NL/2017/moralsp17.csv\", mode= \"w\", encoding = \"utf-8\") as fo:\n",
    "    writer=csv.writer(fo)\n",
    "    writer.writerows(output)"
   ]
  },
  {
   "cell_type": "code",
   "execution_count": 20,
   "metadata": {
    "collapsed": true,
    "deletable": true,
    "editable": true
   },
   "outputs": [],
   "source": [
    "import csv\n",
    "text=[]\n",
    "cmp_code=[]\n",
    "with open('/home/linda/manifestos/manifestos/Manifesto downloads/NL/sgp_2017.csv', encoding='utf-8',mode='r',newline='') as sgp_2017:\n",
    "    reader = csv.reader(sgp_2017,delimiter=',')\n",
    "    for row in csv.reader(islice(sgp_2017, 8, None)):\n",
    "        text.append(row[0])\n",
    "        cmp_code.append(row[1])\n",
    "\n",
    "partyname = \"sgp\"\n",
    "yr = 2017\n",
    "ctr = \"NL\"\n",
    "\n",
    "\n",
    "exec(open(\"/home/linda/manifestos/manifestos/scripts/script manifestos NL ext.py\").read(), globals())\n",
    "\n",
    "output = zip(text,cmp_code,morallist, harmvirtuelist, harmvicelist, harmlist, fairnessvirtuelist, fairnessvicelist, fairnesslist, ingroupvirtuelist, ingroupvicelist, ingrouplist, purityvirtuelist, purityvicelist, puritylist, authorityvirtuelist, authorityvicelist, authoritylist, libertyvirtuelist, libertyvicelist, libertylist, moralgenlist, length, party, year, country)\n",
    "with open(\"/home/linda/manifestos/manifestos/data/NL/2017/moralsgp17.csv\", mode= \"w\", encoding = \"utf-8\") as fo:\n",
    "    writer=csv.writer(fo)\n",
    "    writer.writerows(output)"
   ]
  },
  {
   "cell_type": "code",
   "execution_count": 21,
   "metadata": {
    "collapsed": true,
    "deletable": true,
    "editable": true
   },
   "outputs": [],
   "source": [
    "import csv\n",
    "text=[]\n",
    "cmp_code=[]\n",
    "with open('/home/linda/manifestos/manifestos/Manifesto downloads/NL/pvv_2017.csv', encoding='utf-8',mode='r',newline='') as pvv_2017:\n",
    "    reader = csv.reader(pvv_2017,delimiter=',')\n",
    "    for row in csv.reader(islice(pvv_2017, 8, None)):\n",
    "        text.append(row[0])\n",
    "        cmp_code.append(row[1])\n",
    "\n",
    "partyname = \"pvv\"\n",
    "yr = 2017\n",
    "ctr = \"NL\"\n",
    "\n",
    "\n",
    "exec(open(\"/home/linda/manifestos/manifestos/scripts/script manifestos NL ext.py\").read(), globals())\n",
    "\n",
    "output = zip(text,cmp_code,morallist, harmvirtuelist, harmvicelist, harmlist, fairnessvirtuelist, fairnessvicelist, fairnesslist, ingroupvirtuelist, ingroupvicelist, ingrouplist, purityvirtuelist, purityvicelist, puritylist, authorityvirtuelist, authorityvicelist, authoritylist, libertyvirtuelist, libertyvicelist, libertylist, moralgenlist, length, party, year, country)\n",
    "with open(\"/home/linda/manifestos/manifestos/data/NL/2017/moralpvv17.csv\", mode= \"w\", encoding = \"utf-8\") as fo:\n",
    "    writer=csv.writer(fo)\n",
    "    writer.writerows(output)"
   ]
  },
  {
   "cell_type": "code",
   "execution_count": 22,
   "metadata": {
    "collapsed": true,
    "deletable": true,
    "editable": true
   },
   "outputs": [],
   "source": [
    "import csv\n",
    "text=[]\n",
    "cmp_code=[]\n",
    "with open('/home/linda/manifestos/manifestos/Manifesto downloads/NL/pvdd_2017.csv', encoding='utf-8',mode='r',newline='') as pvdd_2017:\n",
    "    reader = csv.reader(pvdd_2017,delimiter=',')\n",
    "    for row in csv.reader(islice(pvdd_2017, 8, None)):\n",
    "        text.append(row[0])\n",
    "        cmp_code.append(row[1])\n",
    "\n",
    "partyname = \"pvdd\"\n",
    "yr = 2017\n",
    "ctr = \"NL\"\n",
    "\n",
    "\n",
    "exec(open(\"/home/linda/manifestos/manifestos/scripts/script manifestos NL ext.py\").read(), globals())\n",
    "\n",
    "output = zip(text,cmp_code,morallist, harmvirtuelist, harmvicelist, harmlist, fairnessvirtuelist, fairnessvicelist, fairnesslist, ingroupvirtuelist, ingroupvicelist, ingrouplist, purityvirtuelist, purityvicelist, puritylist, authorityvirtuelist, authorityvicelist, authoritylist, libertyvirtuelist, libertyvicelist, libertylist, moralgenlist, length, party, year, country)\n",
    "with open(\"/home/linda/manifestos/manifestos/data/NL/2017/moralpvdd17.csv\", mode= \"w\", encoding = \"utf-8\") as fo:\n",
    "    writer=csv.writer(fo)\n",
    "    writer.writerows(output)"
   ]
  },
  {
   "cell_type": "code",
   "execution_count": 23,
   "metadata": {
    "collapsed": true,
    "deletable": true,
    "editable": true
   },
   "outputs": [],
   "source": [
    "import csv\n",
    "text=[]\n",
    "cmp_code=[]\n",
    "with open('/home/linda/manifestos/manifestos/Manifesto downloads/NL/pvda_2017.csv', encoding='utf-8',mode='r',newline='') as pvda_2017:\n",
    "    reader = csv.reader(pvda_2017,delimiter=',')\n",
    "    for row in csv.reader(islice(pvda_2017, 8, None)):\n",
    "        text.append(row[0])\n",
    "        cmp_code.append(row[1])\n",
    "\n",
    "partyname = \"pvda\"\n",
    "yr = 2017\n",
    "ctr = \"NL\"\n",
    "\n",
    "\n",
    "exec(open(\"/home/linda/manifestos/manifestos/scripts/script manifestos NL ext.py\").read(), globals())\n",
    "\n",
    "output = zip(text,cmp_code,morallist, harmvirtuelist, harmvicelist, harmlist, fairnessvirtuelist, fairnessvicelist, fairnesslist, ingroupvirtuelist, ingroupvicelist, ingrouplist, purityvirtuelist, purityvicelist, puritylist, authorityvirtuelist, authorityvicelist, authoritylist, libertyvirtuelist, libertyvicelist, libertylist, moralgenlist, length, party, year, country)\n",
    "with open(\"/home/linda/manifestos/manifestos/data/NL/2017/moralpvda17.csv\", mode= \"w\", encoding = \"utf-8\") as fo:\n",
    "    writer=csv.writer(fo)\n",
    "    writer.writerows(output)"
   ]
  },
  {
   "cell_type": "code",
   "execution_count": 24,
   "metadata": {
    "collapsed": true,
    "deletable": true,
    "editable": true
   },
   "outputs": [],
   "source": [
    "import csv\n",
    "text=[]\n",
    "cmp_code=[]\n",
    "with open('/home/linda/manifestos/manifestos/Manifesto downloads/NL/fvd_2017.csv', encoding='utf-8',mode='r',newline='') as fvd_2017:\n",
    "    reader = csv.reader(fvd_2017,delimiter=',')\n",
    "    for row in csv.reader(islice(fvd_2017, 8, None)):\n",
    "        text.append(row[0])\n",
    "        cmp_code.append(row[1])\n",
    "\n",
    "partyname = \"fvd\"\n",
    "yr = 2017\n",
    "ctr = \"NL\"\n",
    "\n",
    "\n",
    "exec(open(\"/home/linda/manifestos/manifestos/scripts/script manifestos NL ext.py\").read(), globals())\n",
    "\n",
    "output = zip(text,cmp_code,morallist, harmvirtuelist, harmvicelist, harmlist, fairnessvirtuelist, fairnessvicelist, fairnesslist, ingroupvirtuelist, ingroupvicelist, ingrouplist, purityvirtuelist, purityvicelist, puritylist, authorityvirtuelist, authorityvicelist, authoritylist, libertyvirtuelist, libertyvicelist, libertylist, moralgenlist, length, party, year, country)\n",
    "with open(\"/home/linda/manifestos/manifestos/data/NL/2017/moralfvd17.csv\", mode= \"w\", encoding = \"utf-8\") as fo:\n",
    "    writer=csv.writer(fo)\n",
    "    writer.writerows(output)"
   ]
  },
  {
   "cell_type": "code",
   "execution_count": 25,
   "metadata": {
    "collapsed": true,
    "deletable": true,
    "editable": true
   },
   "outputs": [],
   "source": [
    "import csv\n",
    "text=[]\n",
    "cmp_code=[]\n",
    "with open('/home/linda/manifestos/manifestos/Manifesto downloads/NL/denk_2017.csv', encoding='utf-8',mode='r',newline='') as denk_2017:\n",
    "    reader = csv.reader(denk_2017,delimiter=',')\n",
    "    for row in csv.reader(islice(denk_2017, 8, None)):\n",
    "        text.append(row[0])\n",
    "        cmp_code.append(row[1])\n",
    "\n",
    "partyname = \"denk\"\n",
    "yr = 2017\n",
    "ctr = \"NL\"\n",
    "\n",
    "\n",
    "exec(open(\"/home/linda/manifestos/manifestos/scripts/script manifestos NL ext.py\").read(), globals())\n",
    "\n",
    "output = zip(text,cmp_code,morallist, harmvirtuelist, harmvicelist, harmlist, fairnessvirtuelist, fairnessvicelist, fairnesslist, ingroupvirtuelist, ingroupvicelist, ingrouplist, purityvirtuelist, purityvicelist, puritylist, authorityvirtuelist, authorityvicelist, authoritylist, libertyvirtuelist, libertyvicelist, libertylist, moralgenlist, length, party, year, country)\n",
    "with open(\"/home/linda/manifestos/manifestos/data/NL/2017/moraldenk17.csv\", mode= \"w\", encoding = \"utf-8\") as fo:\n",
    "    writer=csv.writer(fo)\n",
    "    writer.writerows(output)"
   ]
  },
  {
   "cell_type": "code",
   "execution_count": 26,
   "metadata": {
    "collapsed": true,
    "deletable": true,
    "editable": true
   },
   "outputs": [],
   "source": [
    "import csv\n",
    "text=[]\n",
    "cmp_code=[]\n",
    "with open('/home/linda/manifestos/manifestos/Manifesto downloads/NL/d66_2017.csv', encoding='utf-8',mode='r',newline='') as d66_2017:\n",
    "    reader = csv.reader(d66_2017,delimiter=',')\n",
    "    for row in csv.reader(islice(d66_2017, 8, None)):\n",
    "        text.append(row[0])\n",
    "        cmp_code.append(row[1])\n",
    "\n",
    "partyname = \"d66\"\n",
    "yr = 2017\n",
    "ctr = \"NL\"\n",
    "\n",
    "\n",
    "exec(open(\"/home/linda/manifestos/manifestos/scripts/script manifestos NL ext.py\").read(), globals())\n",
    "\n",
    "output = zip(text,cmp_code,morallist, harmvirtuelist, harmvicelist, harmlist, fairnessvirtuelist, fairnessvicelist, fairnesslist, ingroupvirtuelist, ingroupvicelist, ingrouplist, purityvirtuelist, purityvicelist, puritylist, authorityvirtuelist, authorityvicelist, authoritylist, libertyvirtuelist, libertyvicelist, libertylist, moralgenlist, length, party, year, country)\n",
    "with open(\"/home/linda/manifestos/manifestos/data/NL/2017/morald6617.csv\", mode= \"w\", encoding = \"utf-8\") as fo:\n",
    "    writer=csv.writer(fo)\n",
    "    writer.writerows(output)"
   ]
  },
  {
   "cell_type": "code",
   "execution_count": 27,
   "metadata": {
    "collapsed": true,
    "deletable": true,
    "editable": true
   },
   "outputs": [],
   "source": [
    "import csv\n",
    "text=[]\n",
    "cmp_code=[]\n",
    "with open('/home/linda/manifestos/manifestos/Manifesto downloads/NL/cu_2017.csv', encoding='utf-8',mode='r',newline='') as cu_2017:\n",
    "    reader = csv.reader(cu_2017,delimiter=',')\n",
    "    for row in csv.reader(islice(cu_2017, 8, None)):\n",
    "        text.append(row[0])\n",
    "        cmp_code.append(row[1])\n",
    "\n",
    "partyname = \"cu\"\n",
    "yr = 2017\n",
    "ctr = \"NL\"\n",
    "\n",
    "\n",
    "exec(open(\"/home/linda/manifestos/manifestos/scripts/script manifestos NL ext.py\").read(), globals())\n",
    "\n",
    "output = zip(text,cmp_code,morallist, harmvirtuelist, harmvicelist, harmlist, fairnessvirtuelist, fairnessvicelist, fairnesslist, ingroupvirtuelist, ingroupvicelist, ingrouplist, purityvirtuelist, purityvicelist, puritylist, authorityvirtuelist, authorityvicelist, authoritylist, libertyvirtuelist, libertyvicelist, libertylist, moralgenlist, length, party, year, country)\n",
    "with open(\"/home/linda/manifestos/manifestos/data/NL/2017/moralcu17.csv\", mode= \"w\", encoding = \"utf-8\") as fo:\n",
    "    writer=csv.writer(fo)\n",
    "    writer.writerows(output)"
   ]
  },
  {
   "cell_type": "code",
   "execution_count": 28,
   "metadata": {
    "collapsed": true,
    "deletable": true,
    "editable": true
   },
   "outputs": [],
   "source": [
    "import csv\n",
    "text=[]\n",
    "cmp_code=[]\n",
    "with open('/home/linda/manifestos/manifestos/Manifesto downloads/NL/cda_2017.csv', encoding='utf-8',mode='r',newline='') as cda_2017:\n",
    "    reader = csv.reader(cda_2017,delimiter=',')\n",
    "    for row in csv.reader(islice(cda_2017, 8, None)):\n",
    "        text.append(row[0])\n",
    "        cmp_code.append(row[1])\n",
    "\n",
    "partyname = \"cda\"\n",
    "yr = 2017\n",
    "ctr = \"NL\"\n",
    "\n",
    "\n",
    "exec(open(\"/home/linda/manifestos/manifestos/scripts/script manifestos NL ext.py\").read(), globals())\n",
    "\n",
    "output = zip(text,cmp_code,morallist, harmvirtuelist, harmvicelist, harmlist, fairnessvirtuelist, fairnessvicelist, fairnesslist, ingroupvirtuelist, ingroupvicelist, ingrouplist, purityvirtuelist, purityvicelist, puritylist, authorityvirtuelist, authorityvicelist, authoritylist, libertyvirtuelist, libertyvicelist, libertylist, moralgenlist, length, party, year, country)\n",
    "with open(\"/home/linda/manifestos/manifestos/data/NL/2017/moralcda17.csv\", mode= \"w\", encoding = \"utf-8\") as fo:\n",
    "    writer=csv.writer(fo)\n",
    "    writer.writerows(output)"
   ]
  },
  {
   "cell_type": "code",
   "execution_count": 29,
   "metadata": {
    "collapsed": true,
    "deletable": true,
    "editable": true
   },
   "outputs": [],
   "source": [
    "import csv\n",
    "text=[]\n",
    "cmp_code=[]\n",
    "with open('/home/linda/manifestos/manifestos/Manifesto downloads/NL/50p_2017.csv', encoding='utf-8',mode='r',newline='') as p50p_2017:\n",
    "    reader = csv.reader(p50p_2017,delimiter=',')\n",
    "    for row in csv.reader(islice(p50p_2017, 8, None)):\n",
    "        text.append(row[0])\n",
    "        cmp_code.append(row[1])\n",
    "\n",
    "partyname = \"p50p\"\n",
    "yr = 2017\n",
    "ctr = \"NL\"\n",
    "\n",
    "\n",
    "exec(open(\"/home/linda/manifestos/manifestos/scripts/script manifestos NL ext.py\").read(), globals())\n",
    "\n",
    "output = zip(text,cmp_code,morallist, harmvirtuelist, harmvicelist, harmlist, fairnessvirtuelist, fairnessvicelist, fairnesslist, ingroupvirtuelist, ingroupvicelist, ingrouplist, purityvirtuelist, purityvicelist, puritylist, authorityvirtuelist, authorityvicelist, authoritylist, libertyvirtuelist, libertyvicelist, libertylist, moralgenlist, length, party, year, country)\n",
    "with open(\"/home/linda/manifestos/manifestos/data/NL/2017/moral50p17.csv\", mode= \"w\", encoding = \"utf-8\") as fo:\n",
    "    writer=csv.writer(fo)\n",
    "    writer.writerows(output)"
   ]
  },
  {
   "cell_type": "code",
   "execution_count": 18,
   "metadata": {
    "collapsed": false,
    "deletable": true,
    "editable": true
   },
   "outputs": [],
   "source": [
    "# make dataframe for only 2017 data\n",
    "\n",
    "import os\n",
    "import glob\n",
    "import pandas as pd\n",
    "import numpy as np\n",
    "\n",
    "path = \"/home/linda/manifestos/manifestos/data/NL/2017\"\n",
    "allfiles = glob.glob(os.path.join(path,\"*.csv\"))\n",
    "\n",
    "\n",
    "np_array_list = []\n",
    "for file_ in allfiles:\n",
    "    df = pd.read_csv(file_,index_col=None, header=0)\n",
    "    np_array_list.append(df.as_matrix())\n",
    "\n",
    "comb_np_array = np.vstack(np_array_list)\n",
    "big_frame = pd.DataFrame(comb_np_array)\n",
    "\n",
    "big_frame.columns = ['text','cmp_code', 'morallist','harmvirtuelist', 'harmvicelist', 'harmlist', 'fairnessvirtuelist', 'fairnessvicelist',  'fairnesslist', 'ingroupvirtuelist', 'ingroupvicelist', 'ingrouplist', 'purityvirtuelist', 'purityvicelist', 'puritylist',  'authorityvirtuelist', 'authorityvicelist', 'authoritylist', 'libertyvirtuelist', 'libertyvicelist', 'libertylist', 'moralgenlist', 'length', 'party', 'year', 'country']\n"
   ]
  },
  {
   "cell_type": "code",
   "execution_count": 19,
   "metadata": {
    "collapsed": true,
    "deletable": true,
    "editable": true
   },
   "outputs": [],
   "source": [
    "#%% recode missing values \n",
    "\n",
    "bf = big_frame.fillna(value = 0)\n",
    "\n"
   ]
  },
  {
   "cell_type": "code",
   "execution_count": 20,
   "metadata": {
    "collapsed": true,
    "deletable": true,
    "editable": true
   },
   "outputs": [],
   "source": [
    "#%% make dummies for analyses\n",
    "\n",
    "parties = pd.get_dummies(bf['party'])\n",
    "\n",
    "countries = pd.get_dummies(bf['country'])\n",
    "\n",
    "yr = pd.get_dummies(bf['year'])\n",
    "\n",
    "bfd = pd.concat([bf, parties, countries, yr ], axis=1)    "
   ]
  },
  {
   "cell_type": "code",
   "execution_count": 21,
   "metadata": {
    "collapsed": true,
    "deletable": true,
    "editable": true
   },
   "outputs": [],
   "source": [
    "bfd.to_csv('/home/linda/manifestos/combined data/Dutch manifestos 2017.csv')\n",
    "\n",
    "bfd.to_csv('/home/linda/myrealcomputer/Dutch manifestos 2017.csv')\n",
    "\n"
   ]
  },
  {
   "cell_type": "code",
   "execution_count": 22,
   "metadata": {
    "collapsed": false,
    "deletable": true,
    "editable": true
   },
   "outputs": [],
   "source": [
    "# make dataframe for all coded manifestos (downloaded earlier)\n",
    "\n",
    "import os\n",
    "import glob\n",
    "import pandas as pd\n",
    "import numpy as np\n",
    "\n",
    "path = \"/home/linda/manifestos/manifestos/data/NL\"\n",
    "allfiles = glob.glob(os.path.join(path,\"*.csv\"))\n",
    "\n",
    "\n",
    "np_array_list = []\n",
    "for file_ in allfiles:\n",
    "    df = pd.read_csv(file_,index_col=None, header=0)\n",
    "    np_array_list.append(df.as_matrix())\n",
    "\n",
    "comb_np_array = np.vstack(np_array_list)\n",
    "big_frame = pd.DataFrame(comb_np_array)\n",
    "\n",
    "big_frame.columns = ['text','cmp_code', 'morallist','harmvirtuelist', 'harmvicelist', 'harmlist', 'fairnessvirtuelist', 'fairnessvicelist',  'fairnesslist', 'ingroupvirtuelist', 'ingroupvicelist', 'ingrouplist', 'purityvirtuelist', 'purityvicelist', 'puritylist',  'authorityvirtuelist', 'authorityvicelist', 'authoritylist', 'libertyvirtuelist', 'libertyvicelist', 'libertylist', 'moralgenlist', 'length', 'party', 'year', 'country']\n"
   ]
  },
  {
   "cell_type": "code",
   "execution_count": 23,
   "metadata": {
    "collapsed": true,
    "deletable": true,
    "editable": true
   },
   "outputs": [],
   "source": [
    "bf = big_frame.fillna(value = 0)\n",
    "\n"
   ]
  },
  {
   "cell_type": "raw",
   "metadata": {
    "collapsed": true,
    "deletable": true,
    "editable": true
   },
   "source": [
    "parties = pd.get_dummies(bf['party'])\n",
    "\n",
    "countries = pd.get_dummies(bf['country'])\n",
    "\n",
    "yr = pd.get_dummies(bf['year'])\n",
    "\n",
    "bfd = pd.concat([bf, parties, countries, yr ], axis=1)    "
   ]
  },
  {
   "cell_type": "code",
   "execution_count": 24,
   "metadata": {
    "collapsed": true,
    "deletable": true,
    "editable": true
   },
   "outputs": [],
   "source": [
    "bfd.to_csv('/home/linda/manifestos/combined data/Dutch manifestos.csv')\n",
    "\n",
    "bfd.to_csv('/home/linda/myrealcomputer/Dutch manifestos.csv')\n",
    "\n"
   ]
  },
  {
   "cell_type": "code",
   "execution_count": null,
   "metadata": {
    "collapsed": true
   },
   "outputs": [],
   "source": []
  }
 ],
 "metadata": {
  "kernelspec": {
   "display_name": "Python 3",
   "language": "python",
   "name": "python3"
  },
  "language_info": {
   "codemirror_mode": {
    "name": "ipython",
    "version": 3
   },
   "file_extension": ".py",
   "mimetype": "text/x-python",
   "name": "python",
   "nbconvert_exporter": "python",
   "pygments_lexer": "ipython3",
   "version": "3.5.2+"
  }
 },
 "nbformat": 4,
 "nbformat_minor": 2
}
